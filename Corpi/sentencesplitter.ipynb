{
 "cells": [
  {
   "cell_type": "code",
   "execution_count": 26,
   "metadata": {},
   "outputs": [
    {
     "name": "stdout",
     "output_type": "stream",
     "text": [
      "[(30103, 'bible-kjv.txt'), (10230, 'edgeworth-parents.txt'), (10059, 'melville-moby_dick.txt'), (7752, 'austen-emma.txt'), (4999, 'austen-sense.txt'), (4779, 'chesterton-ball.txt'), (4250, 'whitman-leaves.txt'), (3806, 'chesterton-brown.txt'), (3747, 'austen-persuasion.txt'), (3742, 'chesterton-thursday.txt'), (3106, 'shakespeare-hamlet.txt'), (2863, 'bryant-stories.txt'), (2163, 'shakespeare-caesar.txt'), (1907, 'shakespeare-macbeth.txt'), (1851, 'milton-paradise.txt'), (1703, 'carroll-alice.txt'), (1054, 'burgess-busterbrown.txt'), (438, 'blake-poems.txt')]\n"
     ]
    }
   ],
   "source": [
    "from nltk.corpus import gutenberg\n",
    "\n",
    "fileids = gutenberg.fileids()\n",
    "\n",
    "max = []\n",
    "for file in fileids:\n",
    "    sents = gutenberg.sents(file)\n",
    "    max.append((len(sents), file))\n",
    "\n",
    "max.sort(reverse=True)\n",
    "print(max)\n"
   ]
  },
  {
   "cell_type": "code",
   "execution_count": 46,
   "metadata": {},
   "outputs": [],
   "source": [
    "input = \"gu\"\n",
    "output = \"BUG-C.txt\"\n",
    "char = ''\n",
    "\n",
    "bible_sents = gutenberg.sents('bible-kjv.txt')\n",
    "formatted = []\n",
    "for sent in bible_sents:\n",
    "    formatted.append(' '.join(sent))\n",
    "\n",
    "strformat = '\\n'.join(formatted)\n",
    "#print(strformat)\n",
    "\n",
    "with open('bible.txt', 'w', encoding= 'utf-8') as outfile:\n",
    "        outfile.write(strformat)"
   ]
  },
  {
   "cell_type": "code",
   "execution_count": null,
   "metadata": {},
   "outputs": [],
   "source": []
  }
 ],
 "metadata": {
  "kernelspec": {
   "display_name": "py38",
   "language": "python",
   "name": "python3"
  },
  "language_info": {
   "codemirror_mode": {
    "name": "ipython",
    "version": 3
   },
   "file_extension": ".py",
   "mimetype": "text/x-python",
   "name": "python",
   "nbconvert_exporter": "python",
   "pygments_lexer": "ipython3",
   "version": "3.8.16"
  }
 },
 "nbformat": 4,
 "nbformat_minor": 2
}
