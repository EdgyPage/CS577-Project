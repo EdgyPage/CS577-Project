{
 "cells": [
  {
   "cell_type": "code",
   "execution_count": 35,
   "metadata": {},
   "outputs": [],
   "source": [
    "from nltk.corpus import gutenberg"
   ]
  },
  {
   "cell_type": "code",
   "execution_count": 38,
   "metadata": {},
   "outputs": [],
   "source": [
    "fileids = gutenberg.fileids()\n",
    "\n",
    "for file in fileids:\n",
    "    formatted = []\n",
    "    file_sents = gutenberg.sents(file)\n",
    "    for sent in file_sents:\n",
    "        formatted.append(' '.join(sent))\n",
    "\n",
    "    strformat = '\\n'.join(formatted)\n",
    "\n",
    "    with open(file, 'w', encoding= 'utf-8') as outfile:\n",
    "        outfile.write(strformat)"
   ]
  }
 ],
 "metadata": {
  "kernelspec": {
   "display_name": "py38",
   "language": "python",
   "name": "python3"
  },
  "language_info": {
   "codemirror_mode": {
    "name": "ipython",
    "version": 3
   },
   "file_extension": ".py",
   "mimetype": "text/x-python",
   "name": "python",
   "nbconvert_exporter": "python",
   "pygments_lexer": "ipython3",
   "version": "3.8.16"
  }
 },
 "nbformat": 4,
 "nbformat_minor": 2
}
