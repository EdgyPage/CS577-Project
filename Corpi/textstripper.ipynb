{
 "cells": [
  {
   "cell_type": "code",
   "execution_count": 9,
   "metadata": {},
   "outputs": [],
   "source": [
    "def strip_leading_trailing(input_file, output_file, characters_to_strip):\n",
    "    with open(input_file, 'r', encoding= 'utf-8') as infile:\n",
    "        lines = infile.readlines()\n",
    "\n",
    "    stripped_lines = [line.strip(characters_to_strip) for line in lines]\n",
    "\n",
    "    with open(output_file, 'w', encoding= 'utf-8') as outfile:\n",
    "        outfile.write(''.join(stripped_lines))\n",
    "\n",
    "# Example usage:\n",
    "input_file_path = 'input.txt'\n",
    "output_file_path = 'output.txt'\n",
    "characters_to_strip = ' \\t\\n'  # Stripping spaces, tabs, and newlines\n",
    "\n",
    "#strip_leading_trailing(input_file_path, output_file_path, characters_to_strip)"
   ]
  },
  {
   "cell_type": "code",
   "execution_count": 10,
   "metadata": {},
   "outputs": [],
   "source": [
    "input = \"BUG.txt\"\n",
    "output = \"BUG-C.txt\"\n",
    "char = '\"\"'\n",
    "\n",
    "strip_leading_trailing(input, output, char)"
   ]
  },
  {
   "cell_type": "code",
   "execution_count": 11,
   "metadata": {},
   "outputs": [],
   "source": [
    "input = \"GAP.txt\"\n",
    "output = \"GAP-C.txt\"\n",
    "char = '\"\"'\n",
    "\n",
    "strip_leading_trailing(input, output, char)"
   ]
  },
  {
   "cell_type": "code",
   "execution_count": 18,
   "metadata": {},
   "outputs": [],
   "source": [
    "import json\n",
    "\n",
    "def extract_original_sentences(input_file, output_file):\n",
    "    with open(input_file, 'r', encoding='utf-8') as infile:\n",
    "        data = json.load(infile)\n",
    "\n",
    "    original_sentences = []\n",
    "    for entry in data:\n",
    "        sentences = entry.get(\"original_sentence\", [])\n",
    "        if isinstance(sentences, list):\n",
    "            original_sentences.extend(sentences)\n",
    "        elif isinstance(sentences, str):\n",
    "            original_sentences.append(sentences)\n",
    "\n",
    "    with open(output_file, 'w', encoding='utf-8') as outfile:\n",
    "        outfile.write('\\n'.join(original_sentences))\n",
    "\n",
    "# Example usage:\n",
    "input_file_path = 'knowref_test.json'\n",
    "output_file_path = 'knowref-C.txt'\n",
    "\n",
    "extract_original_sentences(input_file_path, output_file_path)"
   ]
  }
 ],
 "metadata": {
  "kernelspec": {
   "display_name": "Python 3",
   "language": "python",
   "name": "python3"
  },
  "language_info": {
   "codemirror_mode": {
    "name": "ipython",
    "version": 3
   },
   "file_extension": ".py",
   "mimetype": "text/x-python",
   "name": "python",
   "nbconvert_exporter": "python",
   "pygments_lexer": "ipython3",
   "version": "3.11.4"
  }
 },
 "nbformat": 4,
 "nbformat_minor": 2
}
